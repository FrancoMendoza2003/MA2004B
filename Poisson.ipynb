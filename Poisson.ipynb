{
 "cells": [
  {
   "cell_type": "code",
   "execution_count": 1,
   "metadata": {},
   "outputs": [],
   "source": [
    "import pandas as pd\n",
    "import seaborn as sns\n",
    "import random\n",
    "import matplotlib.pyplot as plt\n",
    "import math\n",
    "sns.set_style(\"dark\")\n",
    "sns.set_theme()"
   ]
  },
  {
   "cell_type": "code",
   "execution_count": 2,
   "metadata": {},
   "outputs": [],
   "source": [
    "tabla = {0:[0.135335283,\t0.135335283,\t0,\t0.135335283],\n",
    "         1:[0.270670566,\t0.40600585,\t0.135335283,\t0.40600585],\n",
    "         2:[0.270670566,\t0.676676416,\t0.40600585,\t0.676676416,\t2],\n",
    "         3:[0.180447044,\t0.85712346,\t0.676676416,\t0.85712346],\n",
    "         4:[0.090223522,\t0.947346983,\t0.85712346,\t0.947346983],\n",
    "         5:\t[0.036089409,\t0.983436392,\t0.947346983,\t0.983436392],\n",
    "6:\t[0.012029803,\t0.995466194,\t0.983436392,\t0.995466194],\n",
    "7:\t[0.003437087,\t0.998903281,\t0.995466194,\t0.998903281],\n",
    "8:\t[0.000859272,\t0.999762553,\t0.998903281,\t0.999762553],\n",
    "9:\t[0.000190949,\t0.999953502,\t0.999762553,\t0.999953502],\n",
    "10:\t[3.81899E-05,\t0.999991692,\t0.999953502,\t0.999991692]\n",
    "}"
   ]
  },
  {
   "cell_type": "code",
   "execution_count": 4,
   "metadata": {},
   "outputs": [],
   "source": [
    "horas = 2400\n",
    "anos = 10000\n",
    "sim = horas*anos"
   ]
  },
  {
   "cell_type": "code",
   "execution_count": 3,
   "metadata": {},
   "outputs": [
    {
     "name": "stdout",
     "output_type": "stream",
     "text": [
      "0 0.135335283\n",
      "1 0.270670566\n",
      "2 0.270670566\n",
      "3 0.180447044\n",
      "4 0.090223522\n",
      "5 0.036089409\n",
      "6 0.012029803\n",
      "7 0.003437087\n",
      "8 0.000859272\n",
      "9 0.000190949\n",
      "10 3.81899e-05\n"
     ]
    }
   ],
   "source": [
    "for key, i in tabla.items():\n",
    "    print(key,i[0])"
   ]
  },
  {
   "cell_type": "code",
   "execution_count": 6,
   "metadata": {},
   "outputs": [],
   "source": [
    "lista=[]\n",
    "for i in range(sim):\n",
    "    num = random.random()\n",
    "    for key, item in tabla.items():\n",
    "        if item[3]>num>item[2]:\n",
    "            lista.append(key)"
   ]
  },
  {
   "cell_type": "code",
   "execution_count": 11,
   "metadata": {},
   "outputs": [
    {
     "name": "stdout",
     "output_type": "stream",
     "text": [
      "0.8646\n",
      "0     0.135373\n",
      "1     0.270619\n",
      "2     0.270647\n",
      "3     0.180470\n",
      "4     0.090230\n",
      "5     0.036105\n",
      "6     0.012042\n",
      "7     0.003422\n",
      "8     0.000863\n",
      "9     0.000189\n",
      "10    0.000039\n",
      "dtype: float64\n"
     ]
    }
   ],
   "source": [
    "resultados=pd.Series(lista)\n",
    "promedio = round(resultados.mean(),4)\n",
    "frecrel = resultados.value_counts(normalize=True).sort_index()\n",
    "lleguen = round(1-resultados.value_counts()[0]/sim,4)\n",
    "print(lleguen)\n",
    "print(frecrel)"
   ]
  },
  {
   "cell_type": "code",
   "execution_count": 12,
   "metadata": {},
   "outputs": [
    {
     "name": "stdout",
     "output_type": "stream",
     "text": [
      "La tasa promedio de llegada por hora es: 2.0\n",
      "La probabilidad de que lleguen es: 0.8646\n",
      "Las frecuencias relativas son de: \n",
      "0     0.135373\n",
      "1     0.270619\n",
      "2     0.270647\n",
      "3     0.180470\n",
      "4     0.090230\n",
      "5     0.036105\n",
      "6     0.012042\n",
      "7     0.003422\n",
      "8     0.000863\n",
      "9     0.000189\n",
      "10    0.000039\n",
      "dtype: float64\n"
     ]
    }
   ],
   "source": [
    "print(\"La tasa promedio de llegada por hora es:\",promedio)\n",
    "print(\"La probabilidad de que lleguen es:\",lleguen)\n",
    "print(\"Las frecuencias relativas son de: \")\n",
    "print(frecrel)"
   ]
  },
  {
   "cell_type": "code",
   "execution_count": 9,
   "metadata": {},
   "outputs": [],
   "source": [
    "df= pd.DataFrame(frecrel,columns=[\"Frecuencias\"],index=frecrel.index)\n",
    "df.reset_index(inplace=True)\n",
    "df = df.rename(columns = {'index':'Valor'})"
   ]
  },
  {
   "cell_type": "code",
   "execution_count": 10,
   "metadata": {},
   "outputs": [
    {
     "data": {
      "text/plain": [
       "<AxesSubplot: xlabel='Valor', ylabel='Frecuencias'>"
      ]
     },
     "execution_count": 10,
     "metadata": {},
     "output_type": "execute_result"
    },
    {
     "data": {
      "image/png": "[encoded data removed]",
      "text/plain": [
       "<Figure size 640x480 with 1 Axes>"
      ]
     },
     "metadata": {},
     "output_type": "display_data"
    }
   ],
   "source": [
    "sns.barplot(x='Valor', y='Frecuencias', data=df, color='orange')"
   ]
  },
  {
   "cell_type": "code",
   "execution_count": 2,
   "metadata": {},
   "outputs": [],
   "source": [
    "media = 1\n",
    "Poisson = lambda x,t: ((media*t)*x*math.e*(-media*t)) / math.factorial(x)"
   ]
  },
  {
   "cell_type": "code",
   "execution_count": 7,
   "metadata": {},
   "outputs": [],
   "source": [
    "tabla2 = {0:[],\n",
    "         1:[],\n",
    "         2:[],\n",
    "         3:[],\n",
    "         4:[],\n",
    "         5:[],\n",
    "         6:[],\n",
    "         7:[],\n",
    "         8:[],\n",
    "         9:[],\n",
    "         10:[]}"
   ]
  },
  {
   "cell_type": "code",
   "execution_count": 9,
   "metadata": {},
   "outputs": [],
   "source": [
    "for key, item in tabla2.items():\n",
    "    item.append(Poisson(key,1)) \n"
   ]
  },
  {
   "cell_type": "code",
   "execution_count": null,
   "metadata": {},
   "outputs": [],
   "source": []
  }
 ],
 "metadata": {
  "kernelspec": {
   "display_name": "Python 3",
   "language": "python",
   "name": "python3"
  },
  "language_info": {
   "codemirror_mode": {
    "name": "ipython",
    "version": 3
   },
   "file_extension": ".py",
   "mimetype": "text/x-python",
   "name": "python",
   "nbconvert_exporter": "python",
   "pygments_lexer": "ipython3",
   "version": "3.11.0"
  },
  "orig_nbformat": 4
 },
 "nbformat": 4,
 "nbformat_minor": 2
}
